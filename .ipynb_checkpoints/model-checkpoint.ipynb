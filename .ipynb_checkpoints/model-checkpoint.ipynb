{
 "cells": [
  {
   "cell_type": "markdown",
   "metadata": {},
   "source": [
    "# Iris dataset classifier\n",
    "Second project for #30days10AIprojects by <a href=\"doingai.tech\">doingai.tech</a> you can find the data used in: <a href=\"https://archive.ics.uci.edu/ml/datasets/Iris\">https://archive.ics.uci.edu/ml/datasets/Iris</a>"
   ]
  },
  {
   "cell_type": "code",
   "execution_count": 1,
   "metadata": {},
   "outputs": [],
   "source": [
    "import numpy as np\n",
    "import pandas as pd\n",
    "import matplotlib.pyplot as plt\n",
    "from sklearn.metrics import accuracy_score\n",
    "from sklearn.svm import SVC"
   ]
  },
  {
   "cell_type": "code",
   "execution_count": 2,
   "metadata": {},
   "outputs": [],
   "source": [
    "# Data importing\n",
    "X = pd.read_csv('iris.data', names=['sepal length', 'sepal width', 'petal length', 'petal width', 'label'])\n",
    "Y = X['label']\n",
    "\n",
    "X = X.drop('label', axis=1)\n",
    "\n",
    "# Convert string labels to numbers\n",
    "for i in range(len(Y)):\n",
    "    if Y[i] == 'Iris-setosa':\n",
    "        Y[i] = 0\n",
    "    elif Y[i] == 'Iris-versicolor':\n",
    "        Y[i] = 1\n",
    "    elif Y[i] == 'Iris-virginica':\n",
    "        Y[i] = 2\n",
    "        \n",
    "Y = Y.astype('int')"
   ]
  },
  {
   "cell_type": "code",
   "execution_count": 3,
   "metadata": {},
   "outputs": [],
   "source": [
    "# Train - test split\n",
    "from sklearn.model_selection import train_test_split\n",
    "X_train, X_test, Y_train, Y_test = train_test_split(X, Y, test_size=0.3, random_state=558)"
   ]
  },
  {
   "cell_type": "code",
   "execution_count": 4,
   "metadata": {},
   "outputs": [
    {
     "name": "stdout",
     "output_type": "stream",
     "text": [
      "Accuracy:  100.0 %\n"
     ]
    }
   ],
   "source": [
    "# Training\n",
    "model = SVC()\n",
    "model.fit(X_train, Y_train)\n",
    "predictions = model.predict(X_test)\n",
    "print(\"Accuracy: \", accuracy_score(Y_test, predictions) * 100, '%')"
   ]
  }
 ],
 "metadata": {
  "kernelspec": {
   "display_name": "Python 3",
   "language": "python",
   "name": "python3"
  },
  "language_info": {
   "codemirror_mode": {
    "name": "ipython",
    "version": 3
   },
   "file_extension": ".py",
   "mimetype": "text/x-python",
   "name": "python",
   "nbconvert_exporter": "python",
   "pygments_lexer": "ipython3",
   "version": "3.7.5"
  }
 },
 "nbformat": 4,
 "nbformat_minor": 2
}
